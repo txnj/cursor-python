{
 "cells": [
  {
   "cell_type": "markdown",
   "metadata": {},
   "source": [
    "### iloc 是 Pandas 中用于基于整数位置进行数据选择的方法"
   ]
  },
  {
   "cell_type": "code",
   "execution_count": 1,
   "metadata": {},
   "outputs": [
    {
     "name": "stdout",
     "output_type": "stream",
     "text": [
      "   A  B  C\n",
      "0  1  2  3\n",
      "1  4  5  6\n",
      "2  7  8  9\n",
      "选择第一行,df.iloc[0]:\n",
      "A    1\n",
      "B    2\n",
      "C    3\n",
      "Name: 0, dtype: int64\n",
      "选择第一行和第二行,df.iloc[0:2]:\n",
      "   A  B  C\n",
      "0  1  2  3\n",
      "1  4  5  6\n",
      "选择第一列,df.iloc[:, 0]:\n",
      "0    1\n",
      "1    4\n",
      "2    7\n",
      "Name: A, dtype: int64\n",
      "选择第一行的第二列,df.iloc[0, 1]:\n",
      "2\n",
      "选择第一行和第二行的第一列和第二列,df.iloc[0:2, 0:2]:\n",
      "   A  B\n",
      "0  1  2\n",
      "1  4  5\n"
     ]
    }
   ],
   "source": [
    "import pandas as pd\n",
    "\n",
    "# 创建一个示例 DataFrame\n",
    "data = [[1, 2, 3], [4, 5, 6], [7, 8, 9]]\n",
    "df = pd.DataFrame(data, columns=['A', 'B', 'C'])\n",
    "print(df)\n",
    "\n",
    "print(f'选择第一行,df.iloc[0]:\\n{df.iloc[0]}')\n",
    "\n",
    "print(f'选择第一行和第二行,df.iloc[0:2]:\\n{df.iloc[0:2]}')\n",
    "\n",
    "print(f'选择第一列,df.iloc[:, 0]:\\n{df.iloc[:, 0]}')\n",
    "\n",
    "print(f'选择第一行的第二列,df.iloc[0, 1]:\\n{df.iloc[0, 1]}')\n",
    "\n",
    "print(f'选择第一行和第二行的第一列和第二列,df.iloc[0:2, 0:2]:\\n{df.iloc[0:2, 0:2]}')"
   ]
  }
 ],
 "metadata": {
  "kernelspec": {
   "display_name": ".venv",
   "language": "python",
   "name": "python3"
  },
  "language_info": {
   "codemirror_mode": {
    "name": "ipython",
    "version": 3
   },
   "file_extension": ".py",
   "mimetype": "text/x-python",
   "name": "python",
   "nbconvert_exporter": "python",
   "pygments_lexer": "ipython3",
   "version": "3.10.14"
  }
 },
 "nbformat": 4,
 "nbformat_minor": 2
}
