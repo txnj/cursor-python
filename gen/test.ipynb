{
 "cells": [
  {
   "cell_type": "code",
   "execution_count": 3,
   "metadata": {},
   "outputs": [
    {
     "name": "stdout",
     "output_type": "stream",
     "text": [
      "   value\n",
      "0     10\n",
      "1     20\n",
      "2     30\n",
      "3     40\n",
      "4     50\n",
      "   value category\n",
      "0     10      low\n",
      "1     20   medium\n",
      "2     30   medium\n",
      "3     40     high\n",
      "4     50     high\n"
     ]
    }
   ],
   "source": [
    "import pandas as pd\n",
    "\n",
    "# 创建示例数据框\n",
    "data = {'value': [10, 20, 30, 40, 50]}\n",
    "df = pd.DataFrame(data)\n",
    "print(df)\n",
    "\n",
    "# 定义一个函数来判断类别，并接受额外的参数\n",
    "def categorize(value, low_threshold, high_threshold):\n",
    "    if value < low_threshold:\n",
    "        return 'low'\n",
    "    elif low_threshold <= value < high_threshold:\n",
    "        return 'medium'\n",
    "    else:\n",
    "        return 'high'\n",
    "\n",
    "# 设置阈值\n",
    "low_threshold = 15\n",
    "high_threshold = 35\n",
    "\n",
    "# 应用函数并添加新列\n",
    "df['category'] = df['value'].apply(categorize, args=(low_threshold, high_threshold))\n",
    "\n",
    "print(df)"
   ]
  }
 ],
 "metadata": {
  "kernelspec": {
   "display_name": ".venv",
   "language": "python",
   "name": "python3"
  },
  "language_info": {
   "codemirror_mode": {
    "name": "ipython",
    "version": 3
   },
   "file_extension": ".py",
   "mimetype": "text/x-python",
   "name": "python",
   "nbconvert_exporter": "python",
   "pygments_lexer": "ipython3",
   "version": "3.10.14"
  }
 },
 "nbformat": 4,
 "nbformat_minor": 2
}
