{
 "cells": [
  {
   "cell_type": "markdown",
   "metadata": {},
   "source": [
    "### 将 000-999 的数字，平均分配到 n 个类别中"
   ]
  },
  {
   "cell_type": "code",
   "execution_count": 2,
   "metadata": {},
   "outputs": [
    {
     "name": "stdout",
     "output_type": "stream",
     "text": [
      "类别 0: 数量 = 100\n",
      "示例: ['000', '010', '020', '030', '040']...\n",
      "类别 1: 数量 = 100\n",
      "示例: ['001', '011', '021', '031', '041']...\n",
      "类别 2: 数量 = 100\n",
      "示例: ['002', '012', '022', '032', '042']...\n",
      "类别 3: 数量 = 100\n",
      "示例: ['003', '013', '023', '033', '043']...\n",
      "类别 4: 数量 = 100\n",
      "示例: ['004', '014', '024', '034', '044']...\n",
      "类别 5: 数量 = 100\n",
      "示例: ['005', '015', '025', '035', '045']...\n",
      "类别 6: 数量 = 100\n",
      "示例: ['006', '016', '026', '036', '046']...\n",
      "类别 7: 数量 = 100\n",
      "示例: ['007', '017', '027', '037', '047']...\n",
      "类别 8: 数量 = 100\n",
      "示例: ['008', '018', '028', '038', '048']...\n",
      "类别 9: 数量 = 100\n",
      "示例: ['009', '019', '029', '039', '049']...\n"
     ]
    },
    {
     "data": {
      "text/plain": [
       "'🚫NOT FOUND'"
      ]
     },
     "execution_count": 2,
     "metadata": {},
     "output_type": "execute_result"
    }
   ],
   "source": [
    "def distribute_numbers(n):\n",
    "    # 生成所有可能的3位数字组合 000-999\n",
    "    all_numbers = [f\"{i:03d}\" for i in range(1000)]\n",
    "\n",
    "    # 创建结果字典\n",
    "    result = {i: [] for i in range(n)}\n",
    "\n",
    "    for i, item in enumerate(all_numbers):\n",
    "        c = i % n\n",
    "        result[c].append(item)\n",
    "    return result\n",
    "\n",
    "\n",
    "def find_category(number, categories):\n",
    "    for category, numbers in categories.items():\n",
    "        if number in numbers:\n",
    "            return category\n",
    "    return \"🚫NOT FOUND\"\n",
    "\n",
    "\n",
    "result = distribute_numbers(10)\n",
    "for category, numbers in result.items():\n",
    "    print(f\"类别 {category}: 数量 = {len(numbers)}\")\n",
    "    print(f\"示例: {numbers[:5]}...\")\n",
    "\n",
    "find_category(\"6531\", result)"
   ]
  }
 ],
 "metadata": {
  "kernelspec": {
   "display_name": ".venv",
   "language": "python",
   "name": "python3"
  },
  "language_info": {
   "codemirror_mode": {
    "name": "ipython",
    "version": 3
   },
   "file_extension": ".py",
   "mimetype": "text/x-python",
   "name": "python",
   "nbconvert_exporter": "python",
   "pygments_lexer": "ipython3",
   "version": "3.10.14"
  }
 },
 "nbformat": 4,
 "nbformat_minor": 2
}
