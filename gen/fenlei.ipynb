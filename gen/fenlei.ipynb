{
 "cells": [
  {
   "cell_type": "markdown",
   "metadata": {},
   "source": [
    "### 将 000-999 的数字，平均分配到 n 个类别中"
   ]
  },
  {
   "cell_type": "code",
   "execution_count": 11,
   "metadata": {},
   "outputs": [
    {
     "name": "stdout",
     "output_type": "stream",
     "text": [
      "类别 0: 数量 = 200\n",
      "示例: ['000', '005', '010', '015', '020']...\n",
      "类别 1: 数量 = 200\n",
      "示例: ['001', '006', '011', '016', '021']...\n",
      "类别 2: 数量 = 200\n",
      "示例: ['002', '007', '012', '017', '022']...\n",
      "类别 3: 数量 = 200\n",
      "示例: ['003', '008', '013', '018', '023']...\n",
      "类别 4: 数量 = 200\n",
      "示例: ['004', '009', '014', '019', '024']...\n"
     ]
    },
    {
     "data": {
      "text/plain": [
       "3"
      ]
     },
     "execution_count": 11,
     "metadata": {},
     "output_type": "execute_result"
    }
   ],
   "source": [
    "def distribute_numbers(n):\n",
    "    # 生成所有可能的3位数字组合 000-999\n",
    "    all_numbers = [f\"{i:03d}\" for i in range(1000)]\n",
    "\n",
    "    # 创建结果字典\n",
    "    result = {i: [] for i in range(n)}\n",
    "\n",
    "    for i, item in enumerate(all_numbers):\n",
    "        c = i % n\n",
    "        result[c].append(item)\n",
    "    return result\n",
    "\n",
    "\n",
    "def find_category(number, categories):\n",
    "    for category, numbers in categories.items():\n",
    "        if number in numbers:\n",
    "            return category\n",
    "    return \"🚫NOT FOUND\"\n",
    "\n",
    "\n",
    "result = distribute_numbers(5)\n",
    "for category, numbers in result.items():\n",
    "    print(f\"类别 {category}: 数量 = {len(numbers)}\")\n",
    "    print(f\"示例: {numbers[:5]}...\")\n",
    "\n",
    "find_category(\"653\", result)"
   ]
  }
 ],
 "metadata": {
  "kernelspec": {
   "display_name": ".venv",
   "language": "python",
   "name": "python3"
  },
  "language_info": {
   "codemirror_mode": {
    "name": "ipython",
    "version": 3
   },
   "file_extension": ".py",
   "mimetype": "text/x-python",
   "name": "python",
   "nbconvert_exporter": "python",
   "pygments_lexer": "ipython3",
   "version": "3.10.14"
  }
 },
 "nbformat": 4,
 "nbformat_minor": 2
}
